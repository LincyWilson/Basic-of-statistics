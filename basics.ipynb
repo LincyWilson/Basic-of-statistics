{
 "cells": [
  {
   "cell_type": "code",
   "execution_count": 1,
   "id": "595f2a6e",
   "metadata": {},
   "outputs": [],
   "source": [
    "import pandas as pd\n",
    "import numpy as np\n",
    "import statistics"
   ]
  },
  {
   "cell_type": "code",
   "execution_count": 2,
   "id": "5ba5008a",
   "metadata": {},
   "outputs": [],
   "source": [
    "import warnings\n",
    "\n",
    "# Ignore all warnings\n",
    "warnings.filterwarnings(\"ignore\")"
   ]
  },
  {
   "cell_type": "code",
   "execution_count": 3,
   "id": "48ba9023",
   "metadata": {},
   "outputs": [],
   "source": [
    "mileage=pd.read_csv(r\"C:\\Users\\CC\\Downloads\\Mileage.csv\")\n",
    "tyres=pd.read_csv(r\"C:\\Users\\CC\\Downloads\\Tyres.csv\")"
   ]
  },
  {
   "cell_type": "code",
   "execution_count": 4,
   "id": "52f2a2d6",
   "metadata": {},
   "outputs": [
    {
     "data": {
      "text/html": [
       "<div>\n",
       "<style scoped>\n",
       "    .dataframe tbody tr th:only-of-type {\n",
       "        vertical-align: middle;\n",
       "    }\n",
       "\n",
       "    .dataframe tbody tr th {\n",
       "        vertical-align: top;\n",
       "    }\n",
       "\n",
       "    .dataframe thead th {\n",
       "        text-align: right;\n",
       "    }\n",
       "</style>\n",
       "<table border=\"1\" class=\"dataframe\">\n",
       "  <thead>\n",
       "    <tr style=\"text-align: right;\">\n",
       "      <th></th>\n",
       "      <th>Mileage</th>\n",
       "    </tr>\n",
       "  </thead>\n",
       "  <tbody>\n",
       "    <tr>\n",
       "      <th>0</th>\n",
       "      <td>19.775379</td>\n",
       "    </tr>\n",
       "    <tr>\n",
       "      <th>1</th>\n",
       "      <td>16.462947</td>\n",
       "    </tr>\n",
       "    <tr>\n",
       "      <th>2</th>\n",
       "      <td>12.801169</td>\n",
       "    </tr>\n",
       "    <tr>\n",
       "      <th>3</th>\n",
       "      <td>15.469012</td>\n",
       "    </tr>\n",
       "    <tr>\n",
       "      <th>4</th>\n",
       "      <td>15.210507</td>\n",
       "    </tr>\n",
       "    <tr>\n",
       "      <th>...</th>\n",
       "      <td>...</td>\n",
       "    </tr>\n",
       "    <tr>\n",
       "      <th>95</th>\n",
       "      <td>19.411013</td>\n",
       "    </tr>\n",
       "    <tr>\n",
       "      <th>96</th>\n",
       "      <td>18.278158</td>\n",
       "    </tr>\n",
       "    <tr>\n",
       "      <th>97</th>\n",
       "      <td>12.900877</td>\n",
       "    </tr>\n",
       "    <tr>\n",
       "      <th>98</th>\n",
       "      <td>25.103865</td>\n",
       "    </tr>\n",
       "    <tr>\n",
       "      <th>99</th>\n",
       "      <td>17.313643</td>\n",
       "    </tr>\n",
       "  </tbody>\n",
       "</table>\n",
       "<p>100 rows × 1 columns</p>\n",
       "</div>"
      ],
      "text/plain": [
       "      Mileage\n",
       "0   19.775379\n",
       "1   16.462947\n",
       "2   12.801169\n",
       "3   15.469012\n",
       "4   15.210507\n",
       "..        ...\n",
       "95  19.411013\n",
       "96  18.278158\n",
       "97  12.900877\n",
       "98  25.103865\n",
       "99  17.313643\n",
       "\n",
       "[100 rows x 1 columns]"
      ]
     },
     "execution_count": 4,
     "metadata": {},
     "output_type": "execute_result"
    }
   ],
   "source": [
    "mileage"
   ]
  },
  {
   "cell_type": "code",
   "execution_count": 5,
   "id": "af3bd895",
   "metadata": {},
   "outputs": [
    {
     "data": {
      "text/html": [
       "<div>\n",
       "<style scoped>\n",
       "    .dataframe tbody tr th:only-of-type {\n",
       "        vertical-align: middle;\n",
       "    }\n",
       "\n",
       "    .dataframe tbody tr th {\n",
       "        vertical-align: top;\n",
       "    }\n",
       "\n",
       "    .dataframe thead th {\n",
       "        text-align: right;\n",
       "    }\n",
       "</style>\n",
       "<table border=\"1\" class=\"dataframe\">\n",
       "  <thead>\n",
       "    <tr style=\"text-align: right;\">\n",
       "      <th></th>\n",
       "      <th>Mileage</th>\n",
       "    </tr>\n",
       "  </thead>\n",
       "  <tbody>\n",
       "    <tr>\n",
       "      <th>count</th>\n",
       "      <td>100.000000</td>\n",
       "    </tr>\n",
       "    <tr>\n",
       "      <th>mean</th>\n",
       "      <td>17.547145</td>\n",
       "    </tr>\n",
       "    <tr>\n",
       "      <th>std</th>\n",
       "      <td>2.905042</td>\n",
       "    </tr>\n",
       "    <tr>\n",
       "      <th>min</th>\n",
       "      <td>11.571587</td>\n",
       "    </tr>\n",
       "    <tr>\n",
       "      <th>25%</th>\n",
       "      <td>15.467069</td>\n",
       "    </tr>\n",
       "    <tr>\n",
       "      <th>50%</th>\n",
       "      <td>17.062686</td>\n",
       "    </tr>\n",
       "    <tr>\n",
       "      <th>75%</th>\n",
       "      <td>19.597563</td>\n",
       "    </tr>\n",
       "    <tr>\n",
       "      <th>max</th>\n",
       "      <td>25.103865</td>\n",
       "    </tr>\n",
       "  </tbody>\n",
       "</table>\n",
       "</div>"
      ],
      "text/plain": [
       "          Mileage\n",
       "count  100.000000\n",
       "mean    17.547145\n",
       "std      2.905042\n",
       "min     11.571587\n",
       "25%     15.467069\n",
       "50%     17.062686\n",
       "75%     19.597563\n",
       "max     25.103865"
      ]
     },
     "execution_count": 5,
     "metadata": {},
     "output_type": "execute_result"
    }
   ],
   "source": [
    "mileage.describe()"
   ]
  },
  {
   "cell_type": "markdown",
   "id": "b39c4c26",
   "metadata": {},
   "source": [
    "# 1) Compute the following:"
   ]
  },
  {
   "cell_type": "code",
   "execution_count": 6,
   "id": "4089eb54",
   "metadata": {},
   "outputs": [
    {
     "name": "stdout",
     "output_type": "stream",
     "text": [
      "Mean: Mileage    17.547145\n",
      "dtype: float64\n"
     ]
    }
   ],
   "source": [
    "# Mean\n",
    "mean = mileage.mean()\n",
    "print(\"Mean:\", mean)"
   ]
  },
  {
   "cell_type": "code",
   "execution_count": 7,
   "id": "a266a1f4",
   "metadata": {},
   "outputs": [
    {
     "name": "stdout",
     "output_type": "stream",
     "text": [
      "Variance: Mileage    8.439269\n",
      "dtype: float64\n"
     ]
    }
   ],
   "source": [
    "# Variance\n",
    "var = mileage.var()\n",
    "print(\"Variance:\", var)"
   ]
  },
  {
   "cell_type": "code",
   "execution_count": 8,
   "id": "46abbbaf",
   "metadata": {},
   "outputs": [
    {
     "name": "stdout",
     "output_type": "stream",
     "text": [
      "Standard deviation: Mileage    2.905042\n",
      "dtype: float64\n"
     ]
    }
   ],
   "source": [
    "# Standard deviation\n",
    "std = mileage.std()\n",
    "print(\"Standard deviation:\", std)"
   ]
  },
  {
   "cell_type": "code",
   "execution_count": 9,
   "id": "d7e1c20a",
   "metadata": {},
   "outputs": [
    {
     "name": "stdout",
     "output_type": "stream",
     "text": [
      "Median: Mileage    17.062686\n",
      "dtype: float64\n"
     ]
    }
   ],
   "source": [
    "# Median\n",
    "median = mileage.median()\n",
    "print(\"Median:\", median)"
   ]
  },
  {
   "cell_type": "code",
   "execution_count": 10,
   "id": "dec40897",
   "metadata": {},
   "outputs": [
    {
     "name": "stdout",
     "output_type": "stream",
     "text": [
      "Mode: 11.5715871966\n"
     ]
    }
   ],
   "source": [
    "# Mode\n",
    "unique_values, counts = np.unique(mileage, return_counts=True)\n",
    "mode = unique_values[np.argmax(counts)]\n",
    "print(\"Mode:\", mode)"
   ]
  },
  {
   "cell_type": "code",
   "execution_count": 11,
   "id": "c104a184",
   "metadata": {},
   "outputs": [
    {
     "name": "stdout",
     "output_type": "stream",
     "text": [
      "Quantiles (25%, 50%, 75%): [15.46706947 17.06268644 19.59756294]\n"
     ]
    }
   ],
   "source": [
    "# Quantiles\n",
    "quantiles = np.percentile(mileage, [25, 50, 75])\n",
    "print(\"Quantiles (25%, 50%, 75%):\", quantiles)"
   ]
  },
  {
   "cell_type": "code",
   "execution_count": 12,
   "id": "e2a2b92f",
   "metadata": {},
   "outputs": [
    {
     "name": "stdout",
     "output_type": "stream",
     "text": [
      "Range: Mileage    13.532278\n",
      "dtype: float64\n"
     ]
    }
   ],
   "source": [
    "# Range\n",
    "data_range = mileage.max() - mileage.min()\n",
    "print(\"Range:\", data_range)"
   ]
  },
  {
   "cell_type": "code",
   "execution_count": 13,
   "id": "14d93aff",
   "metadata": {},
   "outputs": [
    {
     "name": "stdout",
     "output_type": "stream",
     "text": [
      "Minimum Value: Mileage    11.571587\n",
      "dtype: float64\n"
     ]
    }
   ],
   "source": [
    "# Minimum value\n",
    "min_value = mileage.min()\n",
    "print(\"Minimum Value:\", min_value)"
   ]
  },
  {
   "cell_type": "code",
   "execution_count": 14,
   "id": "d04ff2ae",
   "metadata": {},
   "outputs": [
    {
     "name": "stdout",
     "output_type": "stream",
     "text": [
      "Maximum Value: Mileage    25.103865\n",
      "dtype: float64\n"
     ]
    }
   ],
   "source": [
    "# Maximum value of a particular column\n",
    "max_value = mileage.max()\n",
    "print(\"Maximum Value:\", max_value)"
   ]
  },
  {
   "cell_type": "markdown",
   "id": "c5fed854",
   "metadata": {},
   "source": [
    "# 2) Calculate the area of the following shaded region"
   ]
  },
  {
   "cell_type": "code",
   "execution_count": 15,
   "id": "e8c855cf",
   "metadata": {},
   "outputs": [
    {
     "data": {
      "image/png": "[encoded data removed]",
      "text/plain": [
       "<Figure size 640x480 with 1 Axes>"
      ]
     },
     "metadata": {},
     "output_type": "display_data"
    }
   ],
   "source": [
    "import matplotlib.pyplot as plt\n",
    "import numpy as np\n",
    "from scipy.stats import norm\n",
    "\n",
    "#a)\n",
    "mean = 0\n",
    "std = 1\n",
    "\n",
    "upper_bound = -1\n",
    "\n",
    "x = np.linspace(-4, 4, 1000)\n",
    "y = norm.pdf(x, mean, std)\n",
    "\n",
    "plt.plot(x, y)\n",
    "\n",
    "x_shaded = np.linspace(-4, upper_bound, 1000)\n",
    "y_shaded = norm.pdf(x_shaded, mean, std)\n",
    "plt.fill_between(x_shaded, y_shaded, color='gray', alpha=0.5)\n",
    "\n",
    "area = norm.cdf(upper_bound, mean, std)\n",
    "\n",
    "plt.xlabel('x')\n",
    "plt.ylabel('Probability Density')\n",
    "plt.title('Normal Distribution')\n",
    "plt.text(-2, 0.15, f\"Area = {area:.4f}\", ha='center', va='center', fontsize=12)\n",
    "plt.show()"
   ]
  },
  {
   "cell_type": "code",
   "execution_count": 16,
   "id": "2807668d",
   "metadata": {},
   "outputs": [
    {
     "data": {
      "image/png": "[encoded data removed]",
      "text/plain": [
       "<Figure size 640x480 with 1 Axes>"
      ]
     },
     "metadata": {},
     "output_type": "display_data"
    }
   ],
   "source": [
    "#b)\n",
    "\n",
    "upper_bound = 2\n",
    "\n",
    "x = np.linspace(-4, 4, 1000)\n",
    "y = norm.pdf(x, mean, std)\n",
    "\n",
    "plt.plot(x, y)\n",
    "\n",
    "x_shaded = np.linspace(-4, upper_bound, 1000)\n",
    "y_shaded = norm.pdf(x_shaded, mean, std)\n",
    "plt.fill_between(x_shaded, y_shaded, color='gray', alpha=0.5)\n",
    "\n",
    "plt.xlabel('x')\n",
    "plt.ylabel('Probability Density')\n",
    "plt.title('Normal Distribution')\n",
    "plt.text(-2, 0.15, f\"Area = {area:.4f}\", ha='center', va='center', fontsize=12)\n",
    "plt.show()"
   ]
  },
  {
   "cell_type": "code",
   "execution_count": 17,
   "id": "39bddb79",
   "metadata": {},
   "outputs": [
    {
     "data": {
      "image/png": "[encoded data removed]",
      "text/plain": [
       "<Figure size 640x480 with 1 Axes>"
      ]
     },
     "metadata": {},
     "output_type": "display_data"
    }
   ],
   "source": [
    "#c)\n",
    "\n",
    "lower_bound= -1.5\n",
    "upper_bound = 2\n",
    "\n",
    "x = np.linspace(-4, 4, 1000)\n",
    "y = norm.pdf(x, mean, std)\n",
    "\n",
    "plt.plot(x, y)\n",
    "\n",
    "x_shaded = np.linspace(lower_bound, upper_bound, 1000)\n",
    "y_shaded = norm.pdf(x_shaded, mean, std)\n",
    "plt.fill_between(x_shaded, y_shaded, color='gray', alpha=0.5)\n",
    "\n",
    "area = norm.cdf(upper_bound, mean, std) - norm.cdf(lower_bound, mean, std)\n",
    "\n",
    "plt.xlabel('x')\n",
    "plt.ylabel('Probability Density')\n",
    "plt.title('Normal Distribution')\n",
    "plt.text(-2, 0.15, f\"Area = {area:.4f}\", ha='center', va='center', fontsize=12)\n",
    "plt.show()"
   ]
  },
  {
   "cell_type": "code",
   "execution_count": 18,
   "id": "12838a77",
   "metadata": {},
   "outputs": [
    {
     "data": {
      "image/png": "[encoded data removed]",
      "text/plain": [
       "<Figure size 640x480 with 1 Axes>"
      ]
     },
     "metadata": {},
     "output_type": "display_data"
    }
   ],
   "source": [
    "#d)\n",
    "\n",
    "# Generate an array of x-values for the normal distribution curve\n",
    "x = np.linspace(-4, 4, 1000)\n",
    "\n",
    "# Calculate the corresponding y-values (probability density function) for the normal distribution\n",
    "y = norm.pdf(x, mean, std)\n",
    "\n",
    "# Create a plot of the normal distribution\n",
    "plt.plot(x, y)\n",
    "\n",
    "# Define the shaded regions\n",
    "shaded_region_x = np.linspace(-3, -1, 1000)\n",
    "shaded_region_y = norm.pdf(shaded_region_x, mean, std)\n",
    "plt.fill_between(shaded_region_x, shaded_region_y, color='gray', alpha=0.5)\n",
    "\n",
    "shaded_region_x = np.linspace(1, 3, 1000)\n",
    "shaded_region_y = norm.pdf(shaded_region_x, mean, std)\n",
    "plt.fill_between(shaded_region_x, shaded_region_y, color='gray', alpha=0.5)\n",
    "\n",
    "# Calculate the area of the shaded regions\n",
    "area1 = norm.cdf(-1, mean, std) - norm.cdf(-3, mean, std)\n",
    "area2 = norm.cdf(3, mean, std) - norm.cdf(1, mean, std)\n",
    "total_area = area1 + area2\n",
    "\n",
    "# Display the plot and the calculated areas\n",
    "plt.xlabel('x')\n",
    "plt.ylabel('Probability Density')\n",
    "plt.title('Normal Distribution')\n",
    "plt.text(-2, 0.15, f\"Area1 = {area1:.4f}\", ha='center', va='center', fontsize=12)\n",
    "plt.text(2, 0.15, f\"Area2 = {area2:.4f}\", ha='center', va='center', fontsize=12)\n",
    "plt.text(0, 0.05, f\"Total Area = {total_area:.4f}\", ha='center', va='center', fontsize=12)\n",
    "plt.show()"
   ]
  },
  {
   "cell_type": "markdown",
   "id": "2abcbd69",
   "metadata": {},
   "source": [
    "# 3) Fill the missing values, given that X ~ N 0,1)"
   ]
  },
  {
   "cell_type": "code",
   "execution_count": 24,
   "id": "0b622dc9",
   "metadata": {},
   "outputs": [
    {
     "name": "stdout",
     "output_type": "stream",
     "text": [
      "a) P(X ≤ 0.05) = -1.6448536269514729\n",
      "b) P(X ≥ 0.05) = 1.6448536269514722\n",
      "c) P(____ X ≤ 1.96) = 0.95, value = -1.6448536269514722\n"
     ]
    }
   ],
   "source": [
    "from scipy.stats import norm\n",
    "\n",
    "# a) P(X ≤ ___) = 0.05\n",
    "prob_a = 0.05\n",
    "value_a = norm.ppf(prob_a)\n",
    "\n",
    "# b) P(X ≥ ___) = 0.05\n",
    "prob_b = 0.05\n",
    "value_b = norm.ppf(1 - prob_b)\n",
    "\n",
    "# c) P(___ ≤ X ≤ 1.96) = 0.95\n",
    "prob_c = 0.95\n",
    "value_c = norm.ppf(1 - prob_c)  \n",
    "\n",
    "# Print the results\n",
    "print(\"a) P(X ≤ 0.05) =\", value_a)\n",
    "print(\"b) P(X ≥ 0.05) =\", value_b)\n",
    "print(\"c) P(____ X ≤ 1.96) = 0.95, value =\", value_c)"
   ]
  },
  {
   "cell_type": "markdown",
   "id": "f1d29f5e",
   "metadata": {},
   "source": [
    "# 4)"
   ]
  },
  {
   "cell_type": "code",
   "execution_count": 26,
   "id": "f40b9e01",
   "metadata": {},
   "outputs": [
    {
     "data": {
      "text/html": [
       "<div>\n",
       "<style scoped>\n",
       "    .dataframe tbody tr th:only-of-type {\n",
       "        vertical-align: middle;\n",
       "    }\n",
       "\n",
       "    .dataframe tbody tr th {\n",
       "        vertical-align: top;\n",
       "    }\n",
       "\n",
       "    .dataframe thead th {\n",
       "        text-align: right;\n",
       "    }\n",
       "</style>\n",
       "<table border=\"1\" class=\"dataframe\">\n",
       "  <thead>\n",
       "    <tr style=\"text-align: right;\">\n",
       "      <th></th>\n",
       "      <th>Diameter</th>\n",
       "    </tr>\n",
       "  </thead>\n",
       "  <tbody>\n",
       "    <tr>\n",
       "      <th>0</th>\n",
       "      <td>594.975613</td>\n",
       "    </tr>\n",
       "    <tr>\n",
       "      <th>1</th>\n",
       "      <td>596.481791</td>\n",
       "    </tr>\n",
       "    <tr>\n",
       "      <th>2</th>\n",
       "      <td>599.234693</td>\n",
       "    </tr>\n",
       "    <tr>\n",
       "      <th>3</th>\n",
       "      <td>599.644201</td>\n",
       "    </tr>\n",
       "    <tr>\n",
       "      <th>4</th>\n",
       "      <td>603.194044</td>\n",
       "    </tr>\n",
       "    <tr>\n",
       "      <th>5</th>\n",
       "      <td>601.467163</td>\n",
       "    </tr>\n",
       "    <tr>\n",
       "      <th>6</th>\n",
       "      <td>594.626033</td>\n",
       "    </tr>\n",
       "    <tr>\n",
       "      <th>7</th>\n",
       "      <td>604.025920</td>\n",
       "    </tr>\n",
       "    <tr>\n",
       "      <th>8</th>\n",
       "      <td>597.474690</td>\n",
       "    </tr>\n",
       "    <tr>\n",
       "      <th>9</th>\n",
       "      <td>598.145447</td>\n",
       "    </tr>\n",
       "  </tbody>\n",
       "</table>\n",
       "</div>"
      ],
      "text/plain": [
       "     Diameter\n",
       "0  594.975613\n",
       "1  596.481791\n",
       "2  599.234693\n",
       "3  599.644201\n",
       "4  603.194044\n",
       "5  601.467163\n",
       "6  594.626033\n",
       "7  604.025920\n",
       "8  597.474690\n",
       "9  598.145447"
      ]
     },
     "execution_count": 26,
     "metadata": {},
     "output_type": "execute_result"
    }
   ],
   "source": [
    "tyres"
   ]
  },
  {
   "cell_type": "code",
   "execution_count": 27,
   "id": "7829ae44",
   "metadata": {},
   "outputs": [
    {
     "data": {
      "text/html": [
       "<div>\n",
       "<style scoped>\n",
       "    .dataframe tbody tr th:only-of-type {\n",
       "        vertical-align: middle;\n",
       "    }\n",
       "\n",
       "    .dataframe tbody tr th {\n",
       "        vertical-align: top;\n",
       "    }\n",
       "\n",
       "    .dataframe thead th {\n",
       "        text-align: right;\n",
       "    }\n",
       "</style>\n",
       "<table border=\"1\" class=\"dataframe\">\n",
       "  <thead>\n",
       "    <tr style=\"text-align: right;\">\n",
       "      <th></th>\n",
       "      <th>Diameter</th>\n",
       "    </tr>\n",
       "  </thead>\n",
       "  <tbody>\n",
       "    <tr>\n",
       "      <th>count</th>\n",
       "      <td>10.000000</td>\n",
       "    </tr>\n",
       "    <tr>\n",
       "      <th>mean</th>\n",
       "      <td>598.926960</td>\n",
       "    </tr>\n",
       "    <tr>\n",
       "      <th>std</th>\n",
       "      <td>3.233144</td>\n",
       "    </tr>\n",
       "    <tr>\n",
       "      <th>min</th>\n",
       "      <td>594.626033</td>\n",
       "    </tr>\n",
       "    <tr>\n",
       "      <th>25%</th>\n",
       "      <td>596.730016</td>\n",
       "    </tr>\n",
       "    <tr>\n",
       "      <th>50%</th>\n",
       "      <td>598.690070</td>\n",
       "    </tr>\n",
       "    <tr>\n",
       "      <th>75%</th>\n",
       "      <td>601.011423</td>\n",
       "    </tr>\n",
       "    <tr>\n",
       "      <th>max</th>\n",
       "      <td>604.025920</td>\n",
       "    </tr>\n",
       "  </tbody>\n",
       "</table>\n",
       "</div>"
      ],
      "text/plain": [
       "         Diameter\n",
       "count   10.000000\n",
       "mean   598.926960\n",
       "std      3.233144\n",
       "min    594.626033\n",
       "25%    596.730016\n",
       "50%    598.690070\n",
       "75%    601.011423\n",
       "max    604.025920"
      ]
     },
     "execution_count": 27,
     "metadata": {},
     "output_type": "execute_result"
    }
   ],
   "source": [
    "tyres.describe()"
   ]
  },
  {
   "cell_type": "code",
   "execution_count": 30,
   "id": "a6857691",
   "metadata": {},
   "outputs": [
    {
     "name": "stdout",
     "output_type": "stream",
     "text": [
      "Sample mean: 598.9269595011999\n",
      "Sample standard deviation: 3.2331440984200235\n",
      "Test statistic: -1.0495208052958895\n",
      "P-value: 0.3213027477161737\n",
      "Fail to reject the null hypothesis. The manufactured tyres can be accepted.\n"
     ]
    }
   ],
   "source": [
    "import pandas as pd\n",
    "import scipy.stats as stats\n",
    "\n",
    "#a)\n",
    "\n",
    "sample = tyres['Diameter'].values\n",
    "\n",
    "# Define the parameters\n",
    "population_mean = 600\n",
    "sample_size = len(sample)\n",
    "sample_mean = sample.mean()\n",
    "sample_std_dev = sample.std(ddof=1)\n",
    "\n",
    "# Perform the t-test\n",
    "t_statistic, p_value = stats.ttest_1samp(sample, population_mean)\n",
    "\n",
    "# Set the significance level\n",
    "alpha = 0.05\n",
    "\n",
    "# Print the results\n",
    "print(\"Sample mean:\", sample_mean)\n",
    "print(\"Sample standard deviation:\", sample_std_dev)\n",
    "print(\"Test statistic:\", t_statistic)\n",
    "print(\"P-value:\", p_value)\n",
    "\n",
    "# Compare the p-value with the significance level and draw a conclusion\n",
    "if p_value < alpha:\n",
    "    print(\"Reject the null hypothesis. The manufactured tyres are different from 600 mm.\")\n",
    "else:\n",
    "    print(\"Fail to reject the null hypothesis. The manufactured tyres can be accepted.\")"
   ]
  },
  {
   "cell_type": "code",
   "execution_count": 32,
   "id": "e00b859e",
   "metadata": {},
   "outputs": [
    {
     "name": "stdout",
     "output_type": "stream",
     "text": [
      "Sample mean: 598.9269595011999\n",
      "Sample standard deviation: 3.2331440984200235\n",
      "Test statistic: -1.0495208052958895\n",
      "Degrees of freedom: 9\n",
      "Critical values: -2.262157162740992 2.2621571627409915\n",
      "Fail to reject the null hypothesis. The manufactured tyres can be accepted.\n"
     ]
    }
   ],
   "source": [
    "#b)\n",
    "\n",
    "sample = tyres['Diameter'].values\n",
    "\n",
    "# Define the parameters\n",
    "population_mean = 600\n",
    "sample_size = len(sample)\n",
    "sample_mean = sample.mean()\n",
    "sample_std_dev = sample.std(ddof=1)\n",
    "\n",
    "# Perform the t-test\n",
    "t_statistic, p_value = stats.ttest_1samp(sample, population_mean)\n",
    "\n",
    "# Set the significance level\n",
    "alpha = 0.05\n",
    "\n",
    "# Print the results\n",
    "print(\"Sample mean:\", sample_mean)\n",
    "print(\"Sample standard deviation:\", sample_std_dev)\n",
    "print(\"Test statistic:\", t_statistic)\n",
    "print(\"Degrees of freedom:\", sample_size - 1)\n",
    "print(\"Critical values:\", stats.t.ppf(alpha / 2, df=sample_size - 1), stats.t.ppf(1 - alpha / 2, df=sample_size - 1))\n",
    "\n",
    "# Compare the p-value with the significance level and draw a conclusion\n",
    "if p_value < alpha:\n",
    "    print(\"Reject the null hypothesis. The manufactured tyres are different from 600 mm.\")\n",
    "else:\n",
    "    print(\"Fail to reject the null hypothesis. The manufactured tyres can be accepted.\")"
   ]
  },
  {
   "cell_type": "code",
   "execution_count": null,
   "id": "859a7600",
   "metadata": {},
   "outputs": [],
   "source": []
  }
 ],
 "metadata": {
  "kernelspec": {
   "display_name": "Python 3 (ipykernel)",
   "language": "python",
   "name": "python3"
  },
  "language_info": {
   "codemirror_mode": {
    "name": "ipython",
    "version": 3
   },
   "file_extension": ".py",
   "mimetype": "text/x-python",
   "name": "python",
   "nbconvert_exporter": "python",
   "pygments_lexer": "ipython3",
   "version": "3.9.13"
  }
 },
 "nbformat": 4,
 "nbformat_minor": 5
}
